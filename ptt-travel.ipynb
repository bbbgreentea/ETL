{
 "cells": [
  {
   "cell_type": "code",
   "execution_count": null,
   "metadata": {},
   "outputs": [],
   "source": [
    "!pip install requests"
   ]
  },
  {
   "cell_type": "code",
   "execution_count": null,
   "metadata": {},
   "outputs": [],
   "source": [
    "ptt_url_template = \"https://www.ptt.cc/bbs/Tai-travel/index%s.html\"\n",
    "\n",
    "for page in range(1000,1165):\n",
    "    ptt_url = ptt_url_template%page\n",
    "    print(ptt_url)\n"
   ]
  },
  {
   "cell_type": "code",
   "execution_count": null,
   "metadata": {},
   "outputs": [],
   "source": [
    "import requests\n",
    "\n",
    "def get_page_ptt(ptt_url):\n",
    "    resp = requests.get(ptt_url)\n",
    "    return resp.text\n"
   ]
  },
  {
   "cell_type": "code",
   "execution_count": null,
   "metadata": {},
   "outputs": [],
   "source": [
    "def save2file_ptt(filename, text):\n",
    "    with open(filename, 'w') as f:\n",
    "        f.write(text)\n"
   ]
  },
  {
   "cell_type": "code",
   "execution_count": null,
   "metadata": {},
   "outputs": [],
   "source": [
    "!mkdir -p /home/ubuntu/ptt_data/list_page\n"
   ]
  },
  {
   "cell_type": "code",
   "execution_count": null,
   "metadata": {},
   "outputs": [],
   "source": [
    "ptt_url_template = \"https://www.ptt.cc/bbs/Tai-travel/index%s.html\"\n",
    "for page in range(1000,1165):\n",
    "    ptt_url = ptt_url_template%page\n",
    "    print(\"[INFO]crawling %s\"%ptt_url)\n",
    "    text = get_page_ptt(ptt_url)\n",
    "    save2file_ptt('/home/ubuntu/ptt_data/list_page/' + \"%s.html\"%page, text)\n"
   ]
  },
  {
   "cell_type": "code",
   "execution_count": null,
   "metadata": {},
   "outputs": [],
   "source": [
    "import re\n",
    "import glob\n",
    "\n",
    "glob.glob('/home/ubuntu/ptt_data/list_page/*')\n",
    "\n",
    "res = []\n",
    "for filename in glob.glob('/home/ubuntu/ptt_data/list_page/*'):\n",
    "    with open(filename) as f:\n",
    "        html = f.read()\n",
    "        ptt_detail_urls = re.findall('''/bbs/Tai-travel/M.+.html''', html)\n",
    "        res.extend(ptt_detail_urls)\n",
    "\n",
    "res\n"
   ]
  },
  {
   "cell_type": "code",
   "execution_count": null,
   "metadata": {},
   "outputs": [],
   "source": [
    "!mkdir -p /home/ubuntu/ptt_data/detail_page\n"
   ]
  },
  {
   "cell_type": "code",
   "execution_count": null,
   "metadata": {},
   "outputs": [],
   "source": [
    "for ptt_link in res:\n",
    "    ptt_filename =ptt_link.split('/M.')[1].split('.html')[0]\n",
    "    ptt_detail_url = 'https://www.ptt.cc'+ ptt_link\n",
    "    print(ptt_detail_url)\n",
    "    \n",
    "    text = get_page_ptt(ptt_detail_url)\n",
    "    save2file_ptt('/home/ubuntu/ptt_data/detail_page/' + ptt_filename, text)\n"
   ]
  },
  {
   "cell_type": "code",
   "execution_count": null,
   "metadata": {},
   "outputs": [],
   "source": []
  }
 ],
 "metadata": {
  "kernelspec": {
   "display_name": "Python 3",
   "language": "python",
   "name": "python3"
  },
  "language_info": {
   "codemirror_mode": {
    "name": "ipython",
    "version": 3
   },
   "file_extension": ".py",
   "mimetype": "text/x-python",
   "name": "python",
   "nbconvert_exporter": "python",
   "pygments_lexer": "ipython3",
   "version": "3.6.1"
  }
 },
 "nbformat": 4,
 "nbformat_minor": 2
}
