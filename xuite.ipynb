{
 "cells": [
  {
   "cell_type": "markdown",
   "metadata": {},
   "source": [
    "# 台北 taipei"
   ]
  },
  {
   "cell_type": "code",
   "execution_count": null,
   "metadata": {},
   "outputs": [],
   "source": [
    "!pip install requests"
   ]
  },
  {
   "cell_type": "code",
   "execution_count": null,
   "metadata": {},
   "outputs": [],
   "source": [
    "taipei_url_template = \"http://yo.xuite.net/info/search.php?c=TWN00000&a=TWN10000&k=spot&p=%s\"\n",
    "\n",
    "for page in range(1,43):\n",
    "    taipei_url = taipei_url_template%page\n",
    "    print(taipei_url)\n",
    "    #使用for迴圈跑出所有分頁"
   ]
  },
  {
   "cell_type": "code",
   "execution_count": null,
   "metadata": {},
   "outputs": [],
   "source": [
    "import requests\n",
    "\n",
    "def get_page_taipei(taipei_url):\n",
    "    resp = requests.get(taipei_url)\n",
    "    return resp.text\n",
    "#建立抓取page的method"
   ]
  },
  {
   "cell_type": "code",
   "execution_count": null,
   "metadata": {},
   "outputs": [],
   "source": [
    "def save2file_taipei(filename, text):\n",
    "    with open(filename, 'w') as f:\n",
    "        f.write(text)\n",
    "    #建立抓取硬碟內的檔案method"
   ]
  },
  {
   "cell_type": "code",
   "execution_count": null,
   "metadata": {},
   "outputs": [],
   "source": [
    "!mkdir -p /home/ubuntu/xuite_data/taipei/list_page\n",
    "#新增資料夾已被儲存使用"
   ]
  },
  {
   "cell_type": "code",
   "execution_count": null,
   "metadata": {},
   "outputs": [],
   "source": [
    "taipei_url_template = \"http://yo.xuite.net/info/search.php?c=TWN00000&a=TWN10000&k=spot&p=%s\"\n",
    "for page in range(1,44):\n",
    "    taipei_url = taipei_url_template%page\n",
    "    print(\"[INFO]crawling %s\"%taipei_url)\n",
    "    text = get_page_taipei(taipei_url)\n",
    "    save2file('/home/ubuntu/xuite_data/taipei/list_page/' + \"%s.html\"%page, text)\n",
    "    #使用'' get_page_taipei's method '' and '' save2file_taipei's methos '' 跑出所有分頁並儲存"
   ]
  },
  {
   "cell_type": "code",
   "execution_count": null,
   "metadata": {},
   "outputs": [],
   "source": [
    "import re\n",
    "import glob\n",
    "\n",
    "glob.glob('/home/ubuntu/xuite_data/taipei/list_page/*')\n",
    "\n",
    "res = []\n",
    "for filename in glob.glob('/home/ubuntu/xuite_data/taipei/list_page/*'):\n",
    "    with open(filename) as f:\n",
    "        html = f.read()\n",
    "        taipei_detail_urls = re.findall('''(/info/element.php\\?id=.+)\"  title=.+''', html)\n",
    "        res.extend(taipei_detail_urls)\n",
    "\n",
    "res\n",
    "\n",
    "#抓取所有分頁並找出符合 ' re.findall ' 條件的code"
   ]
  },
  {
   "cell_type": "code",
   "execution_count": null,
   "metadata": {},
   "outputs": [],
   "source": [
    "!mkdir -p /home/ubuntu/xuite_data/taipei/detail_page\n",
    "#新增資料夾已被儲存使用"
   ]
  },
  {
   "cell_type": "code",
   "execution_count": null,
   "metadata": {},
   "outputs": [],
   "source": [
    "for taipei_link in res:\n",
    "    taipei_filename =taipei_link.split('id')[1]\n",
    "    taipei_detail_url = 'http://yo.xuite.net'+ taipei_link\n",
    "    print(taipei_detail_url)\n",
    "    \n",
    "    # using the fucntions defined above ^^^^^^^^^^^^^\n",
    "    text = get_page(taipei_detail_url)\n",
    "    save2file('/home/ubuntu/xuite_data/taipei/detail_page/' + taipei_filename, text)\n",
    "    #透過分詞重新整理網址內容為最簡短化"
   ]
  },
  {
   "cell_type": "markdown",
   "metadata": {},
   "source": [
    "# 桃園 taoyuan"
   ]
  },
  {
   "cell_type": "code",
   "execution_count": null,
   "metadata": {},
   "outputs": [],
   "source": [
    "taoyuan_url_template = \"http://yo.xuite.net/info/search.php?&c=TWN00000&a=TWN30300&k=spot&p=%s\"\n",
    "\n",
    "for page in range(1,26):\n",
    "    taoyuan_url = taoyuan_url_template%page\n",
    "    print(taoyuan_url)\n",
    "        #使用for迴圈跑出所有分頁"
   ]
  },
  {
   "cell_type": "code",
   "execution_count": null,
   "metadata": {},
   "outputs": [],
   "source": [
    "import requests\n",
    "\n",
    "def get_page_taoyuan(taoyuan_url):\n",
    "    resp = requests.get(taoyuan_url)\n",
    "    return resp.text\n",
    "#建立抓取page的method"
   ]
  },
  {
   "cell_type": "code",
   "execution_count": null,
   "metadata": {},
   "outputs": [],
   "source": [
    "def save2file_taoyuan(filename, text):\n",
    "    with open(filename, 'w') as f:\n",
    "        f.write(text)\n",
    "            #建立抓取硬碟內的檔案method"
   ]
  },
  {
   "cell_type": "code",
   "execution_count": null,
   "metadata": {},
   "outputs": [],
   "source": [
    "!mkdir -p /home/ubuntu/xuite_data/taoyuan/list_page\n",
    "#新增資料夾已被儲存使用"
   ]
  },
  {
   "cell_type": "code",
   "execution_count": null,
   "metadata": {},
   "outputs": [],
   "source": [
    "taoyuan_url_template = \"http://yo.xuite.net/info/search.php?&c=TWN00000&a=TWN30300&k=spot&p=%s\"\n",
    "for page in range(1,44):\n",
    "    taoyuan_url = taoyuan_url_template%page\n",
    "    print(\"[INFO]crawling %s\"%taoyuan_url)\n",
    "    text = get_page_taoyuan(taoyuan_url)\n",
    "    save2file('/home/ubuntu/xuite_data/taoyuan/list_page/' + \"%s.html\"%page, text)\n",
    "        #使用'' get_page_taipei's method '' and '' save2file_taipei's methos '' 跑出所有分頁並儲存"
   ]
  },
  {
   "cell_type": "code",
   "execution_count": null,
   "metadata": {},
   "outputs": [],
   "source": [
    "import re\n",
    "import glob\n",
    "\n",
    "glob.glob('/home/ubuntu/xuite_data/taoyuan/list_page/*')\n",
    "\n",
    "res = []\n",
    "for filename in glob.glob('/home/ubuntu/xuite_data/taoyuan/list_page/*'):\n",
    "    with open(filename) as f:\n",
    "        html = f.read()\n",
    "        taoyuan_detail_urls = re.findall('''(/info/element.php\\?id=.+)\"  title=.+''', html)\n",
    "        res.extend(taoyuan_detail_urls)\n",
    "res\n",
    "#抓取所有分頁並找出符合 ' re.findall ' 條件的code"
   ]
  },
  {
   "cell_type": "code",
   "execution_count": null,
   "metadata": {},
   "outputs": [],
   "source": [
    "!mkdir -p /home/ubuntu/xuite_data/taoyuan/detail_page\n",
    "#新增資料夾已被儲存使用"
   ]
  },
  {
   "cell_type": "code",
   "execution_count": null,
   "metadata": {},
   "outputs": [],
   "source": [
    "for taoyuan_link in res:\n",
    "    taoyuan_filename =taoyuan_link.split('id')[1]\n",
    "    taoyuan_detail_url = 'http://yo.xuite.net'+ taoyuan_link\n",
    "    print(taoyuan_detail_url)\n",
    "    \n",
    "    # using the fucntions defined above ^^^^^^^^^^^^^\n",
    "    text = get_page(taoyuan_detail_url)\n",
    "    save2file('/home/ubuntu/xuite_data/taoyuan/detail_page/' + taoyuan_filename, text)\n",
    "    #透過分詞重新整理網址內容為最簡短化"
   ]
  },
  {
   "cell_type": "markdown",
   "metadata": {},
   "source": [
    "# taichung 台中"
   ]
  },
  {
   "cell_type": "code",
   "execution_count": null,
   "metadata": {},
   "outputs": [],
   "source": [
    "taichung_url_template = \"http://yo.xuite.net/info/search.php?&c=TWN00000&a=TWN31900&k=spot&p=%s\"\n",
    "\n",
    "for page in range(1,35):\n",
    "    taichung_url = taichung_url_template%page\n",
    "    print(taichung_url)\n",
    "            #使用for迴圈跑出所有分頁"
   ]
  },
  {
   "cell_type": "code",
   "execution_count": null,
   "metadata": {},
   "outputs": [],
   "source": [
    "import requests\n",
    "\n",
    "def get_page_taichung(taichung_url):\n",
    "    resp = requests.get(taichung_url)\n",
    "    return resp.text\n",
    "#建立抓取page的method"
   ]
  },
  {
   "cell_type": "code",
   "execution_count": null,
   "metadata": {},
   "outputs": [],
   "source": [
    "def save2file_taichung(filename, text):\n",
    "    with open(filename, 'w') as f:\n",
    "        f.write(text)\n",
    "                    #建立抓取硬碟內的檔案method"
   ]
  },
  {
   "cell_type": "code",
   "execution_count": null,
   "metadata": {},
   "outputs": [],
   "source": [
    "!mkdir -p /home/ubuntu/xuite_data/taichung/list_page\n",
    "#新增資料夾已被儲存使用"
   ]
  },
  {
   "cell_type": "code",
   "execution_count": null,
   "metadata": {},
   "outputs": [],
   "source": [
    "taichung_url_template = \"http://yo.xuite.net/info/search.php?&c=TWN00000&a=TWN31900&k=spot&p=%s\"\n",
    "for page in range(1,35):\n",
    "    taichung_url = taichung_url_template%page\n",
    "    print(\"[INFO]crawling %s\"%taichung_url)\n",
    "    text = get_page_taichung(taichung_url)\n",
    "    save2file('/home/ubuntu/xuite_data/taichung/list_page/' + \"%s.html\"%page, text)\n",
    "            #使用'' get_page_taipei's method '' and '' save2file_taipei's methos '' 跑出所有分頁並儲存"
   ]
  },
  {
   "cell_type": "code",
   "execution_count": null,
   "metadata": {},
   "outputs": [],
   "source": [
    "import re\n",
    "import glob\n",
    "\n",
    "glob.glob('/home/ubuntu/xuite_data/taichung/list_page/*')\n",
    "\n",
    "res = []\n",
    "for filename in glob.glob('/home/ubuntu/xuite_data/taichung/list_page/*'):\n",
    "    with open(filename) as f:\n",
    "        html = f.read()\n",
    "        taichung_detail_urls = re.findall('''(/info/element.php\\?id=.+)\"  title=.+''', html)\n",
    "        res.extend(taichung_detail_urls)\n",
    "res\n",
    "#抓取所有分頁並找出符合 ' re.findall ' 條件的code"
   ]
  },
  {
   "cell_type": "code",
   "execution_count": null,
   "metadata": {},
   "outputs": [],
   "source": [
    "!mkdir -p /home/ubuntu/xuite_data/taichung/detail_page\n",
    "#新增資料夾已被儲存使用"
   ]
  },
  {
   "cell_type": "code",
   "execution_count": null,
   "metadata": {},
   "outputs": [],
   "source": [
    "for taichung_link in res:\n",
    "    taichung_filename =taichung_link.split('id')[1]\n",
    "    taichung_detail_url = 'http://yo.xuite.net'+ taichung_link\n",
    "    print(taichung_detail_url)\n",
    "    \n",
    "    # using the fucntions defined above ^^^^^^^^^^^^^\n",
    "    text = get_page(taichung_detail_url)\n",
    "    save2file('/home/ubuntu/xuite_data/taichung/detail_page/' + taichung_filename, text)\n",
    "    #透過分詞重新整理網址內容為最簡短化"
   ]
  },
  {
   "cell_type": "markdown",
   "metadata": {},
   "source": [
    "# tainan 台南"
   ]
  },
  {
   "cell_type": "code",
   "execution_count": null,
   "metadata": {},
   "outputs": [],
   "source": [
    "tainan_url_template = \"http://yo.xuite.net/info/search.php?&c=TWN00000&a=TWN32100&k=spot&p=%s\"\n",
    "\n",
    "for page in range(1,30):\n",
    "    tainan_url = tainan_url_template%page\n",
    "    print(tainan_url)\n",
    "            #使用for迴圈跑出所有分頁"
   ]
  },
  {
   "cell_type": "code",
   "execution_count": null,
   "metadata": {},
   "outputs": [],
   "source": [
    "import requests\n",
    "\n",
    "def get_page_tainan(tainan_url):\n",
    "    resp = requests.get(tainan_url)\n",
    "    return resp.text\n",
    "#建立抓取page的method"
   ]
  },
  {
   "cell_type": "code",
   "execution_count": null,
   "metadata": {},
   "outputs": [],
   "source": [
    "def save2file_tainan(filename, text):\n",
    "    with open(filename, 'w') as f:\n",
    "        f.write(text)\n",
    "                    #建立抓取硬碟內的檔案method"
   ]
  },
  {
   "cell_type": "code",
   "execution_count": null,
   "metadata": {},
   "outputs": [],
   "source": [
    "!mkdir -p /home/ubuntu/xuite_data/tainan/list_page\n",
    "#新增資料夾已被儲存使用"
   ]
  },
  {
   "cell_type": "code",
   "execution_count": null,
   "metadata": {},
   "outputs": [],
   "source": [
    "tainan_url_template = \"http://yo.xuite.net/info/search.php?&c=TWN00000&a=TWN32100&k=spot&p=%s\"\n",
    "for page in range(1,30):\n",
    "    tainan_url = tainan_url_template%page\n",
    "    print(\"[INFO]crawling %s\"%tainan_url)\n",
    "    text = get_page_tainan(tainan_url)\n",
    "    save2file('/home/ubuntu/xuite_data/tainan/list_page/' + \"%s.html\"%page, text)\n",
    "            #使用'' get_page_taipei's method '' and '' save2file_taipei's methos '' 跑出所有分頁並儲存"
   ]
  },
  {
   "cell_type": "code",
   "execution_count": null,
   "metadata": {},
   "outputs": [],
   "source": [
    "import re\n",
    "import glob\n",
    "\n",
    "glob.glob('/home/ubuntu/xuite_data/tainan/list_page/*')\n",
    "\n",
    "res = []\n",
    "for filename in glob.glob('/home/ubuntu/xuite_data/tainan/list_page/*'):\n",
    "    with open(filename) as f:\n",
    "        html = f.read()\n",
    "        tainan_detail_urls = re.findall('''(/info/element.php\\?id=.+)\"  title=.+''', html)\n",
    "        res.extend(tainan_detail_urls)\n",
    "res\n",
    "#抓取所有分頁並找出符合 ' re.findall ' 條件的code"
   ]
  },
  {
   "cell_type": "code",
   "execution_count": null,
   "metadata": {},
   "outputs": [],
   "source": [
    "!mkdir -p /home/ubuntu/xuite_data/tainan/detail_page\n",
    "#新增資料夾已被儲存使用"
   ]
  },
  {
   "cell_type": "code",
   "execution_count": null,
   "metadata": {},
   "outputs": [],
   "source": [
    "for tainan_link in res:\n",
    "    tainan_filename =tainan_link.split('id')[1]\n",
    "    tainan_detail_url = 'http://yo.xuite.net'+ tainan_link\n",
    "    print(tainan_detail_url)\n",
    "    \n",
    "    # using the fucntions defined above ^^^^^^^^^^^^^\n",
    "    text = get_page(tainan_detail_url)\n",
    "    save2file('/home/ubuntu/xuite_data/tainan/detail_page/' + tainan_filename, text)\n",
    "    #透過分詞重新整理網址內容為最簡短化"
   ]
  },
  {
   "cell_type": "code",
   "execution_count": null,
   "metadata": {},
   "outputs": [],
   "source": []
  }
 ],
 "metadata": {
  "kernelspec": {
   "display_name": "Python 3",
   "language": "python",
   "name": "python3"
  },
  "language_info": {
   "codemirror_mode": {
    "name": "ipython",
    "version": 3
   },
   "file_extension": ".py",
   "mimetype": "text/x-python",
   "name": "python",
   "nbconvert_exporter": "python",
   "pygments_lexer": "ipython3",
   "version": "3.6.1"
  }
 },
 "nbformat": 4,
 "nbformat_minor": 2
}
