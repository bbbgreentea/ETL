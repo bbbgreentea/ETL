{
 "cells": [
  {
   "cell_type": "markdown",
   "metadata": {},
   "source": [
    " # 抓取網址"
   ]
  },
  {
   "cell_type": "code",
   "execution_count": null,
   "metadata": {},
   "outputs": [],
   "source": [
    "!pip install requests\n",
    "# 安裝request"
   ]
  },
  {
   "cell_type": "code",
   "execution_count": null,
   "metadata": {},
   "outputs": [],
   "source": [
    "url_template = \"https://www.518.com.tw/job-index-P-%s.html?ab=2032001,2032002\"\n",
    "\n",
    "for page in range(1,40):\n",
    "    url = url_template%page\n",
    "    print(url)\n",
    "    \n",
    "# 抓取所有分頁網址 使用%S。回圈for跑出1-40頁分頁"
   ]
  },
  {
   "cell_type": "code",
   "execution_count": null,
   "metadata": {},
   "outputs": [],
   "source": [
    "import requests\n",
    "\n",
    "def get_page(url):\n",
    "    resp = requests.get(url)\n",
    "    return resp.text\n",
    "#建立get_page方法"
   ]
  },
  {
   "cell_type": "code",
   "execution_count": null,
   "metadata": {},
   "outputs": [],
   "source": [
    "def save2file(filename, text):\n",
    "    with open(filename, 'w') as f:\n",
    "        f.write(text)\n",
    "#建立save方法"
   ]
  },
  {
   "cell_type": "code",
   "execution_count": null,
   "metadata": {},
   "outputs": [],
   "source": [
    "!mkdir -p /home/ubuntu/518_data/list_page\n",
    "#新建資料夾為儲存所用"
   ]
  },
  {
   "cell_type": "code",
   "execution_count": null,
   "metadata": {},
   "outputs": [],
   "source": [
    "url_template = \"https://www.518.com.tw/job-index-P-%s.html?ab=2032001,2032002\"\n",
    "for page in range(1,40):\n",
    "    url = url_template%page\n",
    "    print(\"[INFO]crawling %s\"%url)\n",
    "    text = get_page(url)\n",
    "    save2file('/home/ubuntu/518_data/list_page/' + \"%s.html\"%page, text)\n",
    "    \n",
    "#透過上序方法將跑出的所有分頁儲存在資料夾中"
   ]
  },
  {
   "cell_type": "code",
   "execution_count": null,
   "metadata": {},
   "outputs": [],
   "source": [
    "import re\n",
    "import glob\n",
    "\n",
    "glob.glob('/home/ubuntu/518_data/list_page/*')\n",
    "\n",
    "res = []\n",
    "for filename in glob.glob('/home/ubuntu/518_data/list_page/*'):\n",
    "    with open(filename) as f:\n",
    "        html = f.read()\n",
    "        detail_urls = re.findall('''(https://www.518.com.tw/.+html).kw=&pi=..''', html)\n",
    "        res.extend(detail_urls)\n",
    "\n",
    "res\n",
    "\n",
    "#抓取位於/home/ubuntu/518_data/list_page/裡所有資料"
   ]
  },
  {
   "cell_type": "code",
   "execution_count": null,
   "metadata": {},
   "outputs": [],
   "source": [
    "!mkdir -p /home/ubuntu/518_data/detail_page\n",
    "#新增一資料夾為儲存內工作內容所用"
   ]
  },
  {
   "cell_type": "code",
   "execution_count": null,
   "metadata": {},
   "outputs": [],
   "source": [
    "for link in res:\n",
    "    filename =link.split('job-')[1]\n",
    "    url = 'https://www.518.com.tw/job-'+ filename\n",
    "    print(url)\n",
    "    \n",
    "    # using the fucntions defined above ^^^^^^^^^^^^^\n",
    "    text = get_page(url)\n",
    "    save2file('/home/ubuntu/518_data/detail_page/' + filename, text)\n",
    "    #透過分詞重新整理網址內容為最簡短化"
   ]
  },
  {
   "cell_type": "code",
   "execution_count": null,
   "metadata": {},
   "outputs": [],
   "source": [
    "import glob\n",
    "\n",
    "detail_page = glob.glob('/home/ubuntu/518_data/detail_page/*')[0]\n",
    "\n",
    "print(detail_page)\n",
    "\n",
    "with open(detail_page) as f:\n",
    "    html = f.read()\n",
    "    \n",
    "html\n",
    "#check detail_page裡的資料"
   ]
  },
  {
   "cell_type": "code",
   "execution_count": null,
   "metadata": {},
   "outputs": [],
   "source": [
    "!pip install beautifulsoup4\n",
    "# 安裝beautifulsoup4"
   ]
  },
  {
   "cell_type": "code",
   "execution_count": null,
   "metadata": {},
   "outputs": [],
   "source": [
    "!pip install lxml\n",
    "# install lxml"
   ]
  },
  {
   "cell_type": "code",
   "execution_count": null,
   "metadata": {},
   "outputs": [],
   "source": [
    "from bs4 import BeautifulSoup\n",
    "\n",
    "\n",
    "soup = BeautifulSoup(html, 'lxml') # html5lib\n",
    "soup\n",
    "#使用beautifulsoup察看資料"
   ]
  },
  {
   "cell_type": "markdown",
   "metadata": {},
   "source": [
    "# 找出技術名稱"
   ]
  },
  {
   "cell_type": "code",
   "execution_count": null,
   "metadata": {},
   "outputs": [],
   "source": [
    "skill_labels = [ele for ele in soup.select('.job-detail-box > dl > dt') if '擅長工具：' in ele.text]\n",
    "#找到 擅長工具那行\n",
    "skill_tools = skill_labels[0].next_sibling.next_sibling.text\n",
    "#透過找到擅長工具那行找到鎖鑰資料\n",
    "skill_tools"
   ]
  },
  {
   "cell_type": "code",
   "execution_count": null,
   "metadata": {},
   "outputs": [],
   "source": [
    "res_dict = {}\n",
    "for tool in glob.glob('/home/ubuntu/518_data/detail_page/*'):\n",
    "    with open(tool) as t:\n",
    "        html = t.read()\n",
    "    skill_labels = [ele for ele in BeautifulSoup(html, 'lxml').select('.job-detail-box > dl > dt') if '擅長工具：' in ele.text]\n",
    "    skill_tools = skill_labels[0].next_sibling.next_sibling.text\n",
    "    name = tool.split('page/')[1].split('.')[0]\n",
    "    res_dict[name] = skill_tools\n",
    "res_dict\n",
    "\n",
    "#透過回圈找出火有detail_page裡的擅長工具 并儲存於字典中"
   ]
  },
  {
   "cell_type": "code",
   "execution_count": null,
   "metadata": {},
   "outputs": [],
   "source": [
    "new_res_dict='!'.join([ str(x) for x in res_dict.values()]).replace('、','!').replace(' ','').split('!')\n",
    "new_res_dict\n",
    "\n",
    "#將res_dit的value進行整理"
   ]
  },
  {
   "cell_type": "code",
   "execution_count": null,
   "metadata": {},
   "outputs": [],
   "source": [
    "def cnt_skills(text, res={}):\n",
    "    for word in new_res_dict:\n",
    "        if word in res:\n",
    "            res[word] += 1\n",
    "        else:\n",
    "            res[word] = 1\n",
    "    return res\n",
    "#製作計數方法"
   ]
  },
  {
   "cell_type": "code",
   "execution_count": null,
   "metadata": {},
   "outputs": [],
   "source": [
    "res = cnt_skills(new_res_dict)\n",
    "skills = [[word, res[word]]for word in res]\n",
    "\n",
    "sorted_skills=sorted(skills, key=lambda x: x[1], reverse=True)\n",
    "sorted_skills\n",
    "\n",
    "#使用 cnt_skills方法並進行排序"
   ]
  },
  {
   "cell_type": "markdown",
   "metadata": {},
   "source": [
    "# 找出職業名稱"
   ]
  },
  {
   "cell_type": "code",
   "execution_count": null,
   "metadata": {},
   "outputs": [],
   "source": [
    "work_labes = [wn for wn in soup.select('.jobItem > dl > dt')if '職務類別：' in wn.text]\n",
    "# 找出職務類別那行\n",
    "work_name=work_labes[0].next_sibling.next_sibling.text\n",
    "# 找出職務內容\n",
    "work_name\n"
   ]
  },
  {
   "cell_type": "code",
   "execution_count": null,
   "metadata": {},
   "outputs": [],
   "source": [
    "res_name = {}\n",
    "for name in glob.glob('/home/ubuntu/518_data/detail_page/**'):\n",
    "    with open(name) as n:\n",
    "        html = n.read()\n",
    "    work_labels = [wn for wn in BeautifulSoup(html, 'lxml').select('.jobItem > dl > dt')if '職務類別：' in wn.text]\n",
    "    # 找出網頁內文 jobitem > dl > dt裡面的職務類別所有資料\n",
    "    work_name=work_labels[0].next_sibling.next_sibling.text\n",
    "    idname = name.split('page/')[1].split('.')[0]\n",
    "    #將網頁整理成為id顯示用於儲存key使用\n",
    "    res_name[idname] = work_name\n",
    "        \n",
    "res_name"
   ]
  },
  {
   "cell_type": "code",
   "execution_count": null,
   "metadata": {},
   "outputs": [],
   "source": [
    "new_res_name='!'.join([ str(x) for x in res_name.values()]).replace('、','!').split('!')\n",
    "new_res_name\n",
    "#篩選value裏面資料,將兩筆以上資料做分開"
   ]
  },
  {
   "cell_type": "code",
   "execution_count": null,
   "metadata": {},
   "outputs": [],
   "source": [
    "def cnt_name(text, res_name={}):\n",
    "    for word in new_res_name:\n",
    "        if word in res_name:\n",
    "            res_name[word] += 1\n",
    "        else:\n",
    "            res_name[word] = 1\n",
    "    return res_name\n",
    "#定義計數方法"
   ]
  },
  {
   "cell_type": "code",
   "execution_count": null,
   "metadata": {},
   "outputs": [],
   "source": [
    "res_name = cnt_name(new_res_name)\n",
    "testname = [[word, res_name[word]]for word in res_name]\n",
    "\n",
    "\n",
    "sort_name=sorted(testname, key=lambda x: x[1], reverse=True)\n",
    "sort_name\n",
    "#套用上序方法做計數,並使用sorted做排序"
   ]
  },
  {
   "cell_type": "markdown",
   "metadata": {},
   "source": [
    "# 找出需要swift的職業名稱"
   ]
  },
  {
   "cell_type": "code",
   "execution_count": null,
   "metadata": {},
   "outputs": [],
   "source": [
    "!mkdir -p /home/ubuntu/518_data/Swift_workename"
   ]
  },
  {
   "cell_type": "code",
   "execution_count": null,
   "metadata": {},
   "outputs": [],
   "source": [
    "res_dict = {}\n",
    "for tool in glob.glob('/home/ubuntu/518_data/detail_page/*'):\n",
    "    with open(tool) as t:\n",
    "        html = t.read()\n",
    "    skill_labels = [ele for ele in BeautifulSoup(html, 'lxml').select('.job-detail-box > dl > dt') if '擅長工具：' in ele.text]\n",
    "    skill_tools = skill_labels[0].next_sibling.next_sibling.text\n",
    "    # 找出網頁內文 jobitem > dl > dt裡面的擅長工具所有資料\n",
    "    name = tool.split('page/')[1].split('.')[0]\n",
    "    #清理網頁使得name為該網頁id\n",
    "    aa=skill_tools.split('、')\n",
    "    if 'Swift' in aa :\n",
    "        new_html = 'https://www.518.com.tw/job-' + name + '.html'\n",
    "        print(new_html)\n",
    "        text = get_page(new_html)\n",
    "        save2file('/home/ubuntu/518_data/Swift_workename/' + name, text)\n",
    "    #找尋tools裡含有swift的內容 並做出儲存及命名動作"
   ]
  },
  {
   "cell_type": "code",
   "execution_count": null,
   "metadata": {},
   "outputs": [],
   "source": [
    "swift_res_name = {}\n",
    "for name in glob.glob('/home/ubuntu/518_data/Swift_workename/*'):\n",
    "    with open(name) as n:\n",
    "        html = n.read()\n",
    "        #讀取資料夾為存放網頁為上序條件的網頁\n",
    "    swift_work_labels = [wn for wn in BeautifulSoup(html, 'lxml').select('.jobItem > dl > dt')if '職務類別：' in wn.text]\n",
    "    swift_work_name=swift_work_labels[0].next_sibling.next_sibling.text\n",
    "    idname = name.split('Swift_workename/')[1]\n",
    "    swift_res_name[idname] = swift_work_name\n",
    "    #找出上序網頁的職務類別\n",
    "swift_res_name"
   ]
  },
  {
   "cell_type": "code",
   "execution_count": null,
   "metadata": {},
   "outputs": [],
   "source": [
    "new_swift_res_name='!'.join([ str(x) for x in swift_res_name.values()]).replace('、','!').split('!')\n",
    "new_swift_res_name\n",
    "#針對找出的職務類別有兩筆以上的資料做出分割"
   ]
  },
  {
   "cell_type": "code",
   "execution_count": null,
   "metadata": {},
   "outputs": [],
   "source": [
    "def cnt_swift_name(text, res_name={}):\n",
    "    for word in new_swift_res_name:\n",
    "        if word in res_name:\n",
    "            res_name[word] += 1\n",
    "        else:\n",
    "            res_name[word] = 1\n",
    "    return res_name\n",
    "#定義計數方法"
   ]
  },
  {
   "cell_type": "code",
   "execution_count": null,
   "metadata": {},
   "outputs": [],
   "source": [
    "res_name = cnt_swift_name(new_swift_res_name)\n",
    "testname = [[word, res_name[word]]for word in res_name]\n",
    "\n",
    "\n",
    "sort_swift_name=sorted(testname, key=lambda x: x[1], reverse=True)\n",
    "sort_swift_name\n",
    "#套用上序方法做計數,並使用sorted做排序"
   ]
  },
  {
   "cell_type": "markdown",
   "metadata": {},
   "source": [
    "# 找出需要android的職務名稱"
   ]
  },
  {
   "cell_type": "code",
   "execution_count": null,
   "metadata": {},
   "outputs": [],
   "source": [
    "!mkdir -p /home/ubuntu/518_data/android_workename"
   ]
  },
  {
   "cell_type": "code",
   "execution_count": null,
   "metadata": {},
   "outputs": [],
   "source": [
    "res_dict = {}\n",
    "for tool in glob.glob('/home/ubuntu/518_data/detail_page/*'):\n",
    "    with open(tool) as t:\n",
    "        html = t.read()\n",
    "    skill_labels = [ele for ele in BeautifulSoup(html, 'lxml').select('.job-detail-box > dl > dt') if '擅長工具：' in ele.text]\n",
    "    skill_tools = skill_labels[0].next_sibling.next_sibling.text\n",
    "# 找出網頁內文 jobitem > dl > dt裡面的擅長工具所有資料\n",
    "    name = tool.split('page/')[1].split('.')[0]\n",
    "    aa=skill_tools.split('、')\n",
    "    if 'Android' in aa :\n",
    "        new_html = 'https://www.518.com.tw/job-' + name + '.html'\n",
    "        print(new_html)\n",
    "        text = get_page(new_html)\n",
    "        save2file('/home/ubuntu/518_data/android_workename/' + name, text)\n",
    "         #找尋tools裡含有android的內容 並做出儲存及命名動作"
   ]
  },
  {
   "cell_type": "code",
   "execution_count": null,
   "metadata": {},
   "outputs": [],
   "source": [
    "android_res_name = {}\n",
    "for name in glob.glob('/home/ubuntu/518_data/android_workename/*'):\n",
    "    with open(name) as n:\n",
    "        html = n.read()\n",
    "        #讀取資料夾為存放網頁為上序條件的網頁\n",
    "    android_work_labels = [wn for wn in BeautifulSoup(html, 'lxml').select('.jobItem > dl > dt')if '職務類別：' in wn.text]\n",
    "    android_work_name = android_work_labels[0].next_sibling.next_sibling.text\n",
    "    idname = name.split('android_workename/')[1]\n",
    "    android_res_name[idname] = android_work_name\n",
    "        #找出上序網頁的職務類別\n",
    "android_res_name"
   ]
  },
  {
   "cell_type": "code",
   "execution_count": null,
   "metadata": {},
   "outputs": [],
   "source": [
    "new_android_res_name='!'.join([ str(x) for x in android_res_name.values()]).replace('、','!').split('!')\n",
    "new_android_res_name\n",
    "#針對找出的職務類別有兩筆以上的資料做出分割"
   ]
  },
  {
   "cell_type": "code",
   "execution_count": null,
   "metadata": {},
   "outputs": [],
   "source": [
    "def cnt_android_name(text, res_name={}):\n",
    "    for word in new_android_res_name:\n",
    "        if word in res_name:\n",
    "            res_name[word] += 1\n",
    "        else:\n",
    "            res_name[word] = 1\n",
    "    return res_name\n",
    "#定義計數方法"
   ]
  },
  {
   "cell_type": "code",
   "execution_count": null,
   "metadata": {},
   "outputs": [],
   "source": [
    "res_name = cnt_android_name(new_android_res_name)\n",
    "testname = [[word, res_name[word]]for word in res_name]\n",
    "\n",
    "\n",
    "sort_android_name=sorted(testname, key=lambda x: x[1], reverse=True)\n",
    "sort_android_name\n",
    "#套用上序方法做計數,並使用sorted做排序"
   ]
  }
 ],
 "metadata": {
  "kernelspec": {
   "display_name": "Python 3",
   "language": "python",
   "name": "python3"
  },
  "language_info": {
   "codemirror_mode": {
    "name": "ipython",
    "version": 3
   },
   "file_extension": ".py",
   "mimetype": "text/x-python",
   "name": "python",
   "nbconvert_exporter": "python",
   "pygments_lexer": "ipython3",
   "version": "3.6.1"
  }
 },
 "nbformat": 4,
 "nbformat_minor": 2
}
